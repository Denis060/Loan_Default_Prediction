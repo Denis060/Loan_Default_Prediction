{
 "cells": [
  {
   "cell_type": "markdown",
   "metadata": {},
   "source": [
    "LOADING THE DATASET"
   ]
  },
  {
   "cell_type": "code",
   "execution_count": 1,
   "metadata": {},
   "outputs": [],
   "source": [
    "#imports required libraries\n",
    "import pandas as pd\n",
    "import os"
   ]
  },
  {
   "cell_type": "code",
   "execution_count": 8,
   "metadata": {},
   "outputs": [],
   "source": [
    "#defining the file  path\n",
    "raw_data_path = os.path.join(\"data\",\"raw\",\"LoanDataset.csv\")"
   ]
  },
  {
   "cell_type": "code",
   "execution_count": 10,
   "metadata": {},
   "outputs": [],
   "source": [
    "# Update the file path\n",
    "raw_data_path = r\"C:\\Users\\pcric\\Desktop\\SPRING 2025\\PRACTICAL DATASCIENCE\\Loan_Default_Prediction\\Loan_Default_Prediction\\data\\raw\\LoanDataset.csv\"\n",
    "\n",
    "# Load the dataset\n",
    "Loan_data = pd.read_csv(raw_data_path)"
   ]
  },
  {
   "cell_type": "code",
   "execution_count": 12,
   "metadata": {},
   "outputs": [
    {
     "name": "stdout",
     "output_type": "stream",
     "text": [
      "Dataset Overview\n",
      "<class 'pandas.core.frame.DataFrame'>\n",
      "RangeIndex: 32586 entries, 0 to 32585\n",
      "Data columns (total 13 columns):\n",
      " #   Column               Non-Null Count  Dtype  \n",
      "---  ------               --------------  -----  \n",
      " 0   customer_id          32583 non-null  float64\n",
      " 1   customer_age         32586 non-null  int64  \n",
      " 2   customer_income      32586 non-null  object \n",
      " 3   home_ownership       32586 non-null  object \n",
      " 4   employment_duration  31691 non-null  float64\n",
      " 5   loan_intent          32586 non-null  object \n",
      " 6   loan_grade           32586 non-null  object \n",
      " 7   loan_amnt            32585 non-null  object \n",
      " 8   loan_int_rate        29470 non-null  float64\n",
      " 9   term_years           32586 non-null  int64  \n",
      " 10  historical_default   11849 non-null  object \n",
      " 11  cred_hist_length     32586 non-null  int64  \n",
      " 12  Current_loan_status  32582 non-null  object \n",
      "dtypes: float64(3), int64(3), object(7)\n",
      "memory usage: 3.2+ MB\n",
      "None\n"
     ]
    }
   ],
   "source": [
    "# Display basic infor mation of the dataset\n",
    "print(\"Dataset Overview\")\n",
    "print(Loan_data.info())"
   ]
  },
  {
   "cell_type": "code",
   "execution_count": null,
   "metadata": {},
   "outputs": [],
   "source": []
  },
  {
   "cell_type": "code",
   "execution_count": 13,
   "metadata": {},
   "outputs": [],
   "source": [
    "# show first few rows"
   ]
  },
  {
   "cell_type": "code",
   "execution_count": 14,
   "metadata": {},
   "outputs": [
    {
     "data": {
      "text/html": [
       "<div>\n",
       "<style scoped>\n",
       "    .dataframe tbody tr th:only-of-type {\n",
       "        vertical-align: middle;\n",
       "    }\n",
       "\n",
       "    .dataframe tbody tr th {\n",
       "        vertical-align: top;\n",
       "    }\n",
       "\n",
       "    .dataframe thead th {\n",
       "        text-align: right;\n",
       "    }\n",
       "</style>\n",
       "<table border=\"1\" class=\"dataframe\">\n",
       "  <thead>\n",
       "    <tr style=\"text-align: right;\">\n",
       "      <th></th>\n",
       "      <th>customer_id</th>\n",
       "      <th>customer_age</th>\n",
       "      <th>customer_income</th>\n",
       "      <th>home_ownership</th>\n",
       "      <th>employment_duration</th>\n",
       "      <th>loan_intent</th>\n",
       "      <th>loan_grade</th>\n",
       "      <th>loan_amnt</th>\n",
       "      <th>loan_int_rate</th>\n",
       "      <th>term_years</th>\n",
       "      <th>historical_default</th>\n",
       "      <th>cred_hist_length</th>\n",
       "      <th>Current_loan_status</th>\n",
       "    </tr>\n",
       "  </thead>\n",
       "  <tbody>\n",
       "    <tr>\n",
       "      <th>0</th>\n",
       "      <td>1.0</td>\n",
       "      <td>22</td>\n",
       "      <td>59000</td>\n",
       "      <td>RENT</td>\n",
       "      <td>123.0</td>\n",
       "      <td>PERSONAL</td>\n",
       "      <td>C</td>\n",
       "      <td>£35,000.00</td>\n",
       "      <td>16.02</td>\n",
       "      <td>10</td>\n",
       "      <td>Y</td>\n",
       "      <td>3</td>\n",
       "      <td>DEFAULT</td>\n",
       "    </tr>\n",
       "    <tr>\n",
       "      <th>1</th>\n",
       "      <td>2.0</td>\n",
       "      <td>21</td>\n",
       "      <td>9600</td>\n",
       "      <td>OWN</td>\n",
       "      <td>5.0</td>\n",
       "      <td>EDUCATION</td>\n",
       "      <td>A</td>\n",
       "      <td>£1,000.00</td>\n",
       "      <td>11.14</td>\n",
       "      <td>1</td>\n",
       "      <td>NaN</td>\n",
       "      <td>2</td>\n",
       "      <td>NO DEFAULT</td>\n",
       "    </tr>\n",
       "    <tr>\n",
       "      <th>2</th>\n",
       "      <td>3.0</td>\n",
       "      <td>25</td>\n",
       "      <td>9600</td>\n",
       "      <td>MORTGAGE</td>\n",
       "      <td>1.0</td>\n",
       "      <td>MEDICAL</td>\n",
       "      <td>B</td>\n",
       "      <td>£5,500.00</td>\n",
       "      <td>12.87</td>\n",
       "      <td>5</td>\n",
       "      <td>N</td>\n",
       "      <td>3</td>\n",
       "      <td>DEFAULT</td>\n",
       "    </tr>\n",
       "    <tr>\n",
       "      <th>3</th>\n",
       "      <td>4.0</td>\n",
       "      <td>23</td>\n",
       "      <td>65500</td>\n",
       "      <td>RENT</td>\n",
       "      <td>4.0</td>\n",
       "      <td>MEDICAL</td>\n",
       "      <td>B</td>\n",
       "      <td>£35,000.00</td>\n",
       "      <td>15.23</td>\n",
       "      <td>10</td>\n",
       "      <td>N</td>\n",
       "      <td>2</td>\n",
       "      <td>DEFAULT</td>\n",
       "    </tr>\n",
       "    <tr>\n",
       "      <th>4</th>\n",
       "      <td>5.0</td>\n",
       "      <td>24</td>\n",
       "      <td>54400</td>\n",
       "      <td>RENT</td>\n",
       "      <td>8.0</td>\n",
       "      <td>MEDICAL</td>\n",
       "      <td>B</td>\n",
       "      <td>£35,000.00</td>\n",
       "      <td>14.27</td>\n",
       "      <td>10</td>\n",
       "      <td>Y</td>\n",
       "      <td>4</td>\n",
       "      <td>DEFAULT</td>\n",
       "    </tr>\n",
       "  </tbody>\n",
       "</table>\n",
       "</div>"
      ],
      "text/plain": [
       "   customer_id  customer_age customer_income home_ownership  \\\n",
       "0          1.0            22           59000           RENT   \n",
       "1          2.0            21            9600            OWN   \n",
       "2          3.0            25            9600       MORTGAGE   \n",
       "3          4.0            23           65500           RENT   \n",
       "4          5.0            24           54400           RENT   \n",
       "\n",
       "   employment_duration loan_intent loan_grade   loan_amnt  loan_int_rate  \\\n",
       "0                123.0    PERSONAL          C  £35,000.00          16.02   \n",
       "1                  5.0   EDUCATION          A   £1,000.00          11.14   \n",
       "2                  1.0     MEDICAL          B   £5,500.00          12.87   \n",
       "3                  4.0     MEDICAL          B  £35,000.00          15.23   \n",
       "4                  8.0     MEDICAL          B  £35,000.00          14.27   \n",
       "\n",
       "   term_years historical_default  cred_hist_length Current_loan_status  \n",
       "0          10                  Y                 3             DEFAULT  \n",
       "1           1                NaN                 2          NO DEFAULT  \n",
       "2           5                  N                 3             DEFAULT  \n",
       "3          10                  N                 2             DEFAULT  \n",
       "4          10                  Y                 4             DEFAULT  "
      ]
     },
     "execution_count": 14,
     "metadata": {},
     "output_type": "execute_result"
    }
   ],
   "source": [
    "Loan_data.head()"
   ]
  },
  {
   "cell_type": "markdown",
   "metadata": {},
   "source": [
    "HANDLING MISSING VALUES AND DATATYPES CONVERSION"
   ]
  },
  {
   "cell_type": "code",
   "execution_count": 16,
   "metadata": {},
   "outputs": [],
   "source": [
    "df=Loan_data"
   ]
  },
  {
   "cell_type": "code",
   "execution_count": 17,
   "metadata": {},
   "outputs": [],
   "source": [
    "# Convert customer_income & loan_amnt to numeric (remove currency symbols)\n",
    "df['customer_income'] = df['customer_income'].astype(str).str.replace('£', '').str.replace(',', '').astype(float)\n",
    "df['loan_amnt'] = df['loan_amnt'].astype(str).str.replace('£', '').str.replace(',', '').astype(float)"
   ]
  },
  {
   "cell_type": "code",
   "execution_count": null,
   "metadata": {},
   "outputs": [],
   "source": [
    "# Convert categorical variables\n",
    "df['historical_default']=df['historical_default'].map({'No':0,'Yes':1})\n",
    "df['Current_loan_status']=df['Current_loan_status'].map({'DEFAULT':1,'NO DEFAULT':0})"
   ]
  },
  {
   "cell_type": "code",
   "execution_count": 19,
   "metadata": {},
   "outputs": [],
   "source": [
    "# Handle missing values\n",
    "df.fillna({\n",
    "    'employment_duration':df['employment_duration'].median(),\n",
    "    'loan_int_rate':df['loan_int_rate'].median(),\n",
    "    'historical_default':0, # Here we assume that if the historical default is missing, then the customer has no historical default\n",
    "    'Current_loan_status':0, # Here we assume that if the current loan status is missing, then the customer has no default  \n",
    "}, inplace=True)"
   ]
  },
  {
   "cell_type": "code",
   "execution_count": 21,
   "metadata": {},
   "outputs": [
    {
     "name": "stdout",
     "output_type": "stream",
     "text": [
      "Data Cleaning Completed \n",
      "<class 'pandas.core.frame.DataFrame'>\n",
      "RangeIndex: 32586 entries, 0 to 32585\n",
      "Data columns (total 13 columns):\n",
      " #   Column               Non-Null Count  Dtype  \n",
      "---  ------               --------------  -----  \n",
      " 0   customer_id          32583 non-null  float64\n",
      " 1   customer_age         32586 non-null  int64  \n",
      " 2   customer_income      32586 non-null  float64\n",
      " 3   home_ownership       32586 non-null  object \n",
      " 4   employment_duration  32586 non-null  float64\n",
      " 5   loan_intent          32586 non-null  object \n",
      " 6   loan_grade           32586 non-null  object \n",
      " 7   loan_amnt            32585 non-null  float64\n",
      " 8   loan_int_rate        32586 non-null  float64\n",
      " 9   term_years           32586 non-null  int64  \n",
      " 10  historical_default   32586 non-null  float64\n",
      " 11  cred_hist_length     32586 non-null  int64  \n",
      " 12  Current_loan_status  32586 non-null  float64\n",
      "dtypes: float64(7), int64(3), object(3)\n",
      "memory usage: 3.2+ MB\n",
      "None\n"
     ]
    },
    {
     "data": {
      "text/html": [
       "<div>\n",
       "<style scoped>\n",
       "    .dataframe tbody tr th:only-of-type {\n",
       "        vertical-align: middle;\n",
       "    }\n",
       "\n",
       "    .dataframe tbody tr th {\n",
       "        vertical-align: top;\n",
       "    }\n",
       "\n",
       "    .dataframe thead th {\n",
       "        text-align: right;\n",
       "    }\n",
       "</style>\n",
       "<table border=\"1\" class=\"dataframe\">\n",
       "  <thead>\n",
       "    <tr style=\"text-align: right;\">\n",
       "      <th></th>\n",
       "      <th>customer_id</th>\n",
       "      <th>customer_age</th>\n",
       "      <th>customer_income</th>\n",
       "      <th>home_ownership</th>\n",
       "      <th>employment_duration</th>\n",
       "      <th>loan_intent</th>\n",
       "      <th>loan_grade</th>\n",
       "      <th>loan_amnt</th>\n",
       "      <th>loan_int_rate</th>\n",
       "      <th>term_years</th>\n",
       "      <th>historical_default</th>\n",
       "      <th>cred_hist_length</th>\n",
       "      <th>Current_loan_status</th>\n",
       "    </tr>\n",
       "  </thead>\n",
       "  <tbody>\n",
       "    <tr>\n",
       "      <th>0</th>\n",
       "      <td>1.0</td>\n",
       "      <td>22</td>\n",
       "      <td>59000.0</td>\n",
       "      <td>RENT</td>\n",
       "      <td>123.0</td>\n",
       "      <td>PERSONAL</td>\n",
       "      <td>C</td>\n",
       "      <td>35000.0</td>\n",
       "      <td>16.02</td>\n",
       "      <td>10</td>\n",
       "      <td>0.0</td>\n",
       "      <td>3</td>\n",
       "      <td>1.0</td>\n",
       "    </tr>\n",
       "    <tr>\n",
       "      <th>1</th>\n",
       "      <td>2.0</td>\n",
       "      <td>21</td>\n",
       "      <td>9600.0</td>\n",
       "      <td>OWN</td>\n",
       "      <td>5.0</td>\n",
       "      <td>EDUCATION</td>\n",
       "      <td>A</td>\n",
       "      <td>1000.0</td>\n",
       "      <td>11.14</td>\n",
       "      <td>1</td>\n",
       "      <td>0.0</td>\n",
       "      <td>2</td>\n",
       "      <td>0.0</td>\n",
       "    </tr>\n",
       "    <tr>\n",
       "      <th>2</th>\n",
       "      <td>3.0</td>\n",
       "      <td>25</td>\n",
       "      <td>9600.0</td>\n",
       "      <td>MORTGAGE</td>\n",
       "      <td>1.0</td>\n",
       "      <td>MEDICAL</td>\n",
       "      <td>B</td>\n",
       "      <td>5500.0</td>\n",
       "      <td>12.87</td>\n",
       "      <td>5</td>\n",
       "      <td>0.0</td>\n",
       "      <td>3</td>\n",
       "      <td>1.0</td>\n",
       "    </tr>\n",
       "    <tr>\n",
       "      <th>3</th>\n",
       "      <td>4.0</td>\n",
       "      <td>23</td>\n",
       "      <td>65500.0</td>\n",
       "      <td>RENT</td>\n",
       "      <td>4.0</td>\n",
       "      <td>MEDICAL</td>\n",
       "      <td>B</td>\n",
       "      <td>35000.0</td>\n",
       "      <td>15.23</td>\n",
       "      <td>10</td>\n",
       "      <td>0.0</td>\n",
       "      <td>2</td>\n",
       "      <td>1.0</td>\n",
       "    </tr>\n",
       "    <tr>\n",
       "      <th>4</th>\n",
       "      <td>5.0</td>\n",
       "      <td>24</td>\n",
       "      <td>54400.0</td>\n",
       "      <td>RENT</td>\n",
       "      <td>8.0</td>\n",
       "      <td>MEDICAL</td>\n",
       "      <td>B</td>\n",
       "      <td>35000.0</td>\n",
       "      <td>14.27</td>\n",
       "      <td>10</td>\n",
       "      <td>0.0</td>\n",
       "      <td>4</td>\n",
       "      <td>1.0</td>\n",
       "    </tr>\n",
       "  </tbody>\n",
       "</table>\n",
       "</div>"
      ],
      "text/plain": [
       "   customer_id  customer_age  customer_income home_ownership  \\\n",
       "0          1.0            22          59000.0           RENT   \n",
       "1          2.0            21           9600.0            OWN   \n",
       "2          3.0            25           9600.0       MORTGAGE   \n",
       "3          4.0            23          65500.0           RENT   \n",
       "4          5.0            24          54400.0           RENT   \n",
       "\n",
       "   employment_duration loan_intent loan_grade  loan_amnt  loan_int_rate  \\\n",
       "0                123.0    PERSONAL          C    35000.0          16.02   \n",
       "1                  5.0   EDUCATION          A     1000.0          11.14   \n",
       "2                  1.0     MEDICAL          B     5500.0          12.87   \n",
       "3                  4.0     MEDICAL          B    35000.0          15.23   \n",
       "4                  8.0     MEDICAL          B    35000.0          14.27   \n",
       "\n",
       "   term_years  historical_default  cred_hist_length  Current_loan_status  \n",
       "0          10                 0.0                 3                  1.0  \n",
       "1           1                 0.0                 2                  0.0  \n",
       "2           5                 0.0                 3                  1.0  \n",
       "3          10                 0.0                 2                  1.0  \n",
       "4          10                 0.0                 4                  1.0  "
      ]
     },
     "execution_count": 21,
     "metadata": {},
     "output_type": "execute_result"
    }
   ],
   "source": [
    "print(\"Data Cleaning Completed \")\n",
    "print(df.info())\n",
    "df.head()"
   ]
  },
  {
   "cell_type": "markdown",
   "metadata": {},
   "source": [
    "SAVING THE CLEAND DATASET"
   ]
  },
  {
   "cell_type": "code",
   "execution_count": 27,
   "metadata": {},
   "outputs": [],
   "source": [
    "# Define file path for processed data\n",
    "processed_data_path = r\"C:\\Users\\pcric\\Desktop\\SPRING 2025\\PRACTICAL DATASCIENCE\\Loan_Default_Prediction\\Loan_Default_Prediction\\data\\processed\\cleaned_loans.csv\""
   ]
  },
  {
   "cell_type": "code",
   "execution_count": 29,
   "metadata": {},
   "outputs": [
    {
     "name": "stdout",
     "output_type": "stream",
     "text": [
      "Cleaned dataet saved succesfuly and at C:\\Users\\pcric\\Desktop\\SPRING 2025\\PRACTICAL DATASCIENCE\\Loan_Default_Prediction\\Loan_Default_Prediction\\data\\processed\\cleaned_loans.csv\n"
     ]
    }
   ],
   "source": [
    "#save the processed data\n",
    "df.to_csv(processed_data_path, index=False)\n",
    "print(f\"Cleaned dataet saved succesfuly and at {processed_data_path}\")"
   ]
  },
  {
   "cell_type": "code",
   "execution_count": null,
   "metadata": {},
   "outputs": [],
   "source": []
  },
  {
   "cell_type": "code",
   "execution_count": null,
   "metadata": {},
   "outputs": [],
   "source": []
  },
  {
   "cell_type": "code",
   "execution_count": null,
   "metadata": {},
   "outputs": [],
   "source": []
  },
  {
   "cell_type": "code",
   "execution_count": null,
   "metadata": {},
   "outputs": [],
   "source": []
  }
 ],
 "metadata": {
  "kernelspec": {
   "display_name": "base",
   "language": "python",
   "name": "python3"
  },
  "language_info": {
   "codemirror_mode": {
    "name": "ipython",
    "version": 3
   },
   "file_extension": ".py",
   "mimetype": "text/x-python",
   "name": "python",
   "nbconvert_exporter": "python",
   "pygments_lexer": "ipython3",
   "version": "3.11.5"
  }
 },
 "nbformat": 4,
 "nbformat_minor": 2
}
